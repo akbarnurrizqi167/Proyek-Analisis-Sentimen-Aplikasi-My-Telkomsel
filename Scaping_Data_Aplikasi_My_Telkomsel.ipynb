{
  "nbformat": 4,
  "nbformat_minor": 0,
  "metadata": {
    "colab": {
      "provenance": []
    },
    "kernelspec": {
      "name": "python3",
      "display_name": "Python 3"
    },
    "language_info": {
      "name": "python"
    }
  },
  "cells": [
    {
      "cell_type": "code",
      "source": [
        "# Install library scraping Google Play Store\n",
        "!pip install google-play-scraper"
      ],
      "metadata": {
        "colab": {
          "base_uri": "https://localhost:8080/"
        },
        "id": "Ewlti8gLbBLs",
        "outputId": "56f55b7d-a7be-4af4-90a1-47c832430320"
      },
      "execution_count": 1,
      "outputs": [
        {
          "output_type": "stream",
          "name": "stdout",
          "text": [
            "Collecting google-play-scraper\n",
            "  Downloading google_play_scraper-1.2.7-py3-none-any.whl.metadata (50 kB)\n",
            "\u001b[?25l     \u001b[90m━━━━━━━━━━━━━━━━━━━━━━━━━━━━━━━━━━━━━━━━\u001b[0m \u001b[32m0.0/50.2 kB\u001b[0m \u001b[31m?\u001b[0m eta \u001b[36m-:--:--\u001b[0m\r\u001b[2K     \u001b[90m━━━━━━━━━━━━━━━━━━━━━━━━━━━━━━━━━━━━━━━━\u001b[0m \u001b[32m50.2/50.2 kB\u001b[0m \u001b[31m1.9 MB/s\u001b[0m eta \u001b[36m0:00:00\u001b[0m\n",
            "\u001b[?25hDownloading google_play_scraper-1.2.7-py3-none-any.whl (28 kB)\n",
            "Installing collected packages: google-play-scraper\n",
            "Successfully installed google-play-scraper-1.2.7\n"
          ]
        }
      ]
    },
    {
      "cell_type": "code",
      "execution_count": 5,
      "metadata": {
        "colab": {
          "base_uri": "https://localhost:8080/"
        },
        "id": "Tv42CWoEa99N",
        "outputId": "0341b387-5ced-4df1-9d0f-339fcf659a72"
      },
      "outputs": [
        {
          "output_type": "stream",
          "name": "stdout",
          "text": [
            "Jumlah review terkumpul: 200\n",
            "Jumlah review terkumpul: 400\n",
            "Jumlah review terkumpul: 600\n",
            "Jumlah review terkumpul: 800\n",
            "Jumlah review terkumpul: 1000\n",
            "Jumlah review terkumpul: 1200\n",
            "Jumlah review terkumpul: 1400\n",
            "Jumlah review terkumpul: 1600\n",
            "Jumlah review terkumpul: 1800\n",
            "Jumlah review terkumpul: 2000\n",
            "Jumlah review terkumpul: 2200\n",
            "Jumlah review terkumpul: 2400\n",
            "Jumlah review terkumpul: 2600\n",
            "Jumlah review terkumpul: 2800\n",
            "Jumlah review terkumpul: 3000\n",
            "Jumlah review terkumpul: 3200\n",
            "Jumlah review terkumpul: 3400\n",
            "Jumlah review terkumpul: 3600\n",
            "Jumlah review terkumpul: 3800\n",
            "Jumlah review terkumpul: 4000\n",
            "Jumlah review terkumpul: 4200\n",
            "Jumlah review terkumpul: 4400\n",
            "Jumlah review terkumpul: 4600\n",
            "Jumlah review terkumpul: 4800\n",
            "Jumlah review terkumpul: 5000\n",
            "Jumlah review terkumpul: 5200\n",
            "Jumlah review terkumpul: 5400\n",
            "Jumlah review terkumpul: 5600\n",
            "Jumlah review terkumpul: 5800\n",
            "Jumlah review terkumpul: 6000\n",
            "Jumlah review terkumpul: 6200\n",
            "Jumlah review terkumpul: 6400\n",
            "Jumlah review terkumpul: 6600\n",
            "Jumlah review terkumpul: 6800\n",
            "Jumlah review terkumpul: 7000\n",
            "Jumlah review terkumpul: 7200\n",
            "Jumlah review terkumpul: 7400\n",
            "Jumlah review terkumpul: 7600\n",
            "Jumlah review terkumpul: 7800\n",
            "Jumlah review terkumpul: 8000\n",
            "Jumlah review terkumpul: 8200\n",
            "Jumlah review terkumpul: 8400\n",
            "Jumlah review terkumpul: 8600\n",
            "Jumlah review terkumpul: 8800\n",
            "Jumlah review terkumpul: 9000\n",
            "Jumlah review terkumpul: 9200\n",
            "Jumlah review terkumpul: 9400\n",
            "Jumlah review terkumpul: 9600\n",
            "Jumlah review terkumpul: 9800\n",
            "Jumlah review terkumpul: 10000\n"
          ]
        },
        {
          "output_type": "stream",
          "name": "stderr",
          "text": [
            "/tmp/ipython-input-5-2761325987.py:33: SettingWithCopyWarning: \n",
            "A value is trying to be set on a copy of a slice from a DataFrame\n",
            "\n",
            "See the caveats in the documentation: https://pandas.pydata.org/pandas-docs/stable/user_guide/indexing.html#returning-a-view-versus-a-copy\n",
            "  df_reviews_clean.rename(columns={'content': 'text', 'score': 'rating'}, inplace=True)\n"
          ]
        }
      ],
      "source": [
        "from google_play_scraper import reviews\n",
        "import pandas as pd\n",
        "import time\n",
        "\n",
        "app_id = 'com.telkomsel.telkomselcm'\n",
        "all_reviews = []\n",
        "\n",
        "# Total target ulasan\n",
        "TARGET = 10000\n",
        "BATCH_SIZE = 200\n",
        "token = None\n",
        "\n",
        "for _ in range(TARGET // BATCH_SIZE):\n",
        "    result, token = reviews(\n",
        "        app_id,\n",
        "        lang='id',\n",
        "        country='id',\n",
        "        count=BATCH_SIZE,\n",
        "        continuation_token=token\n",
        "    )\n",
        "    all_reviews.extend(result)\n",
        "\n",
        "    print(f\"Jumlah review terkumpul: {len(all_reviews)}\")\n",
        "\n",
        "    # Delay agar tidak diblokir oleh server\n",
        "    time.sleep(2)\n",
        "\n",
        "# Simpan ke DataFrame\n",
        "df_reviews = pd.DataFrame(all_reviews)\n",
        "\n",
        "# Ambil kolom penting saja\n",
        "df_reviews_clean = df_reviews[['content', 'score']]\n",
        "df_reviews_clean.rename(columns={'content': 'text', 'score': 'rating'}, inplace=True)\n",
        "\n",
        "# Simpan ke file\n",
        "df_reviews_clean.to_csv('telkomsel_reviews.csv', index=False)"
      ]
    },
    {
      "cell_type": "code",
      "source": [
        "len(all_reviews)"
      ],
      "metadata": {
        "colab": {
          "base_uri": "https://localhost:8080/"
        },
        "id": "NZCHCREthncD",
        "outputId": "44157568-408b-4ab6-953b-37b53a93c8e3"
      },
      "execution_count": 7,
      "outputs": [
        {
          "output_type": "execute_result",
          "data": {
            "text/plain": [
              "10000"
            ]
          },
          "metadata": {},
          "execution_count": 7
        }
      ]
    }
  ]
}